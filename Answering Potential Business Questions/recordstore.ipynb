{
 "cells": [
  {
   "cell_type": "markdown",
   "metadata": {},
   "source": [
    "# Answering Business Questions using SQL\n",
    "\n",
    "Answering some hypothetical business questions for an organization in the music industry, using the [chinook](https://github.com/lerocha/chinook-database) database, which contains records for a fictional online music store.\n",
    "\n",
    "## Setup"
   ]
  },
  {
   "cell_type": "code",
   "execution_count": 1,
   "metadata": {},
   "outputs": [
    {
     "data": {
      "text/html": [
       "<div>\n",
       "<table border=\"1\" class=\"dataframe\">\n",
       "  <thead>\n",
       "    <tr style=\"text-align: right;\">\n",
       "      <th></th>\n",
       "      <th>name</th>\n",
       "      <th>type</th>\n",
       "    </tr>\n",
       "  </thead>\n",
       "  <tbody>\n",
       "    <tr>\n",
       "      <th>0</th>\n",
       "      <td>album</td>\n",
       "      <td>table</td>\n",
       "    </tr>\n",
       "    <tr>\n",
       "      <th>1</th>\n",
       "      <td>artist</td>\n",
       "      <td>table</td>\n",
       "    </tr>\n",
       "    <tr>\n",
       "      <th>2</th>\n",
       "      <td>customer</td>\n",
       "      <td>table</td>\n",
       "    </tr>\n",
       "    <tr>\n",
       "      <th>3</th>\n",
       "      <td>employee</td>\n",
       "      <td>table</td>\n",
       "    </tr>\n",
       "    <tr>\n",
       "      <th>4</th>\n",
       "      <td>genre</td>\n",
       "      <td>table</td>\n",
       "    </tr>\n",
       "    <tr>\n",
       "      <th>5</th>\n",
       "      <td>invoice</td>\n",
       "      <td>table</td>\n",
       "    </tr>\n",
       "    <tr>\n",
       "      <th>6</th>\n",
       "      <td>invoice_line</td>\n",
       "      <td>table</td>\n",
       "    </tr>\n",
       "    <tr>\n",
       "      <th>7</th>\n",
       "      <td>media_type</td>\n",
       "      <td>table</td>\n",
       "    </tr>\n",
       "    <tr>\n",
       "      <th>8</th>\n",
       "      <td>playlist</td>\n",
       "      <td>table</td>\n",
       "    </tr>\n",
       "    <tr>\n",
       "      <th>9</th>\n",
       "      <td>playlist_track</td>\n",
       "      <td>table</td>\n",
       "    </tr>\n",
       "    <tr>\n",
       "      <th>10</th>\n",
       "      <td>track</td>\n",
       "      <td>table</td>\n",
       "    </tr>\n",
       "  </tbody>\n",
       "</table>\n",
       "</div>"
      ],
      "text/plain": [
       "              name   type\n",
       "0            album  table\n",
       "1           artist  table\n",
       "2         customer  table\n",
       "3         employee  table\n",
       "4            genre  table\n",
       "5          invoice  table\n",
       "6     invoice_line  table\n",
       "7       media_type  table\n",
       "8         playlist  table\n",
       "9   playlist_track  table\n",
       "10           track  table"
      ]
     },
     "execution_count": 1,
     "metadata": {},
     "output_type": "execute_result"
    }
   ],
   "source": [
    "import sqlite3\n",
    "import pandas as pd\n",
    "import matplotlib.pyplot as plt\n",
    "%matplotlib inline \n",
    "\n",
    "# Creating a function that takes a SQL query as an argument\n",
    "# and returns a pandas dataframe of that query. \n",
    "\n",
    "def run_query(q):\n",
    "    with sqlite3.connect('chinook.db') as conn:\n",
    "        return pd.read_sql(q, conn)\n",
    "    \n",
    "# Creating a function that takes a SQL command as an argument \n",
    "# and executes it using the sqlite module\n",
    "\n",
    "def run_command(c):\n",
    "    with sqlite3.connect('chinook.db') as conn:\n",
    "        conn.isolation_level = None\n",
    "        conn.execute(c)\n",
    "\n",
    "# Creating a function that calls the run_query() function to return a \n",
    "# list of all tables and views in the database\n",
    "\n",
    "def show_tables():\n",
    "    st = \"SELECT name, type FROM sqlite_master WHERE type IN (\\\"table\\\",\\\"view\\\");\"\n",
    "    return run_query(st)\n",
    "    \n",
    "show_tables()\n"
   ]
  },
  {
   "cell_type": "markdown",
   "metadata": {},
   "source": [
    "## Tracks Sold per Genre\n",
    "\n",
    "A record label has a few artist they would like distribute in the US:\n",
    "\n",
    "Artist Name | Genre\n",
    "--- | --- \n",
    "Regal|Hip-Hop\n",
    "Red Tone|Punk\n",
    "Meteor and the Girls|Pop\n",
    "Slim Jim Bites|Blues\n",
    "\n",
    "An analysis will be performed to see which genres are popular in America, so the label can determine which artists to promote.  "
   ]
  },
  {
   "cell_type": "code",
   "execution_count": 2,
   "metadata": {},
   "outputs": [
    {
     "name": "stdout",
     "output_type": "stream",
     "text": [
      "    genre_name  tracks_sold  Percent_of_total_tracks_sold\n",
      "0        Metal          619                         58.90\n",
      "1     R&B/Soul          159                         15.13\n",
      "2        Blues          124                         11.80\n",
      "3         Jazz          121                         11.51\n",
      "4          Pop           63                          5.99\n",
      "5  Hip Hop/Rap           33                          3.14\n",
      "6  Heavy Metal            8                          0.76\n",
      "7     TV Shows            2                          0.19\n"
     ]
    },
    {
     "data": {
      "text/plain": [
       "<matplotlib.axes._subplots.AxesSubplot at 0x7f4274074668>"
      ]
     },
     "execution_count": 2,
     "metadata": {},
     "output_type": "execute_result"
    },
    {
     "data": {
      "image/png": "[encoded data removed]",
      "text/plain": [
       "<matplotlib.figure.Figure at 0x7f4274192908>"
      ]
     },
     "metadata": {},
     "output_type": "display_data"
    },
    {
     "data": {
      "image/png": "[encoded data removed]",
      "text/plain": [
       "<matplotlib.figure.Figure at 0x7f42740fdef0>"
      ]
     },
     "metadata": {},
     "output_type": "display_data"
    }
   ],
   "source": [
    "# Creating a plot of each genre, with the number of tracks sold in absolute \n",
    "# numbers and in percentages\n",
    "\n",
    "genre_query = \"\"\"\n",
    "\n",
    "WITH track_numbers AS (\n",
    "  SELECT g.name genre_name, SUM(il.quantity) tracks_sold\n",
    "  FROM track t\n",
    "  INNER JOIN genre g ON t.genre_id = g.genre_id\n",
    "  INNER JOIN invoice_line il ON il.track_id = t.track_id\n",
    "  INNER JOIN invoice i on il.invoice_id = i.invoice_id\n",
    "  GROUP BY g.name\n",
    "  HAVING i.billing_country = \"USA\"\n",
    "  ),\n",
    "  all_tracks AS (\n",
    "  SELECT SUM(quantity) total_tracks\n",
    "  FROM invoice_line il\n",
    "  INNER JOIN invoice i ON i.invoice_id = il.invoice_id\n",
    "  WHERE i.billing_country = \"USA\"\n",
    "  )\n",
    "  \n",
    "  \n",
    "  \n",
    "  SELECT tn.*, ROUND((CAST(tn.tracks_sold as Float)/CAST(at.total_tracks\n",
    "                     as float)*100), 2) Percent_of_total_tracks_sold\n",
    "  FROM track_numbers tn, all_tracks at\n",
    "  ORDER BY tn.tracks_sold DESC;\n",
    "\n",
    "\"\"\"\n",
    "\n",
    "genre_sales_usa = run_query(genre_query)\n",
    "print(genre_sales_usa)\n",
    "genre_sales_usa.plot.bar(x=\"genre_name\", y=\"tracks_sold\")\n",
    "genre_sales_usa.plot.bar(x=\"genre_name\", y=\"Percent_of_total_tracks_sold\")\n",
    "\n"
   ]
  },
  {
   "cell_type": "markdown",
   "metadata": {
    "collapsed": true
   },
   "source": [
    "Based on the results, it would be best to promote Slim Jim Bites, Meteor and the Girls, and Regal, in that order."
   ]
  },
  {
   "cell_type": "markdown",
   "metadata": {},
   "source": [
    "## Total Sales per Sales Support Agent\n",
    "\n",
    "Below is a list of the top selling agents in the organization, as well as analysis on determining factors that attribute to their success."
   ]
  },
  {
   "cell_type": "code",
   "execution_count": 3,
   "metadata": {},
   "outputs": [
    {
     "name": "stdout",
     "output_type": "stream",
     "text": [
      "     sales_agent     supervisor            birthdate            hire_date  \\\n",
      "0   Jane Peacock  Nancy Edwards  1973-08-29 00:00:00  2017-04-01 00:00:00   \n",
      "1  Margaret Park  Nancy Edwards  1947-09-19 00:00:00  2017-05-03 00:00:00   \n",
      "2  Steve Johnson  Nancy Edwards  1965-03-03 00:00:00  2017-10-17 00:00:00   \n",
      "\n",
      "   total_sales  \n",
      "0      1731.51  \n",
      "1      1584.00  \n",
      "2      1393.92  \n"
     ]
    },
    {
     "data": {
      "text/plain": [
       "<matplotlib.axes._subplots.AxesSubplot at 0x7f421bfebe10>"
      ]
     },
     "execution_count": 3,
     "metadata": {},
     "output_type": "execute_result"
    },
    {
     "data": {
      "image/png": "[encoded data removed]",
      "text/plain": [
       "<matplotlib.figure.Figure at 0x7f421c06efd0>"
      ]
     },
     "metadata": {},
     "output_type": "display_data"
    }
   ],
   "source": [
    "# Writing a query that finds the total dollar amount of sales assigned \n",
    "# to each sales support agent within the company, along with their date\n",
    "# of birth, supervisor, and date they started with the company\n",
    "\n",
    "sales_per_agent_query = \"\"\"\n",
    "\n",
    "SELECT \n",
    "    e1.first_name || \" \" || e1.last_name sales_agent,\n",
    "    e2.first_name || \" \" || e2.last_name supervisor,\n",
    "    e1.birthdate,\n",
    "    e1.hire_date,\n",
    "    ROUND(SUM(i.total),2) total_sales\n",
    "    \n",
    "FROM employee e1\n",
    "INNER JOIN employee e2 ON e1.reports_to = e2.employee_id\n",
    "INNER JOIN customer c ON e1.employee_id = c.support_rep_id\n",
    "INNER JOIN invoice i ON i.customer_id = c.customer_id\n",
    "GROUP BY e1.employee_id\n",
    "HAVING e1.title = \"Sales Support Agent\"\n",
    "ORDER BY total_sales DESC\n",
    "\n",
    "\"\"\"\n",
    "\n",
    "sales_per_agent = run_query(sales_per_agent_query)\n",
    "print(sales_per_agent)\n",
    "sales_per_agent.plot.bar(x=\"sales_agent\",y=\"total_sales\")"
   ]
  },
  {
   "cell_type": "markdown",
   "metadata": {},
   "source": [
    "Of the employee attributes that were examined, **hire_date** is the one that stands out as a potential explanation for the sales numbers.  It appears that sales numbers correlate positively with the number of days an agent has been working with the company.  This could mean that a higher sales total may not be attributed to performance, but to how long the person has been with the company.  "
   ]
  },
  {
   "cell_type": "code",
   "execution_count": 4,
   "metadata": {},
   "outputs": [
    {
     "name": "stdout",
     "output_type": "stream",
     "text": [
      "     sales_agent            hire_date  total_sales  sales_per_workday\n",
      "0   Jane Peacock  2017-04-01 00:00:00      1731.51           3.587395\n",
      "1  Margaret Park  2017-05-03 00:00:00      1584.00           3.514805\n",
      "2  Steve Johnson  2017-10-17 00:00:00      1393.92           4.913964\n"
     ]
    },
    {
     "data": {
      "text/plain": [
       "<matplotlib.axes._subplots.AxesSubplot at 0x7f421bf98438>"
      ]
     },
     "execution_count": 4,
     "metadata": {},
     "output_type": "execute_result"
    },
    {
     "data": {
      "image/png": "[encoded data removed]",
      "text/plain": [
       "<matplotlib.figure.Figure at 0x7f421bfd1d30>"
      ]
     },
     "metadata": {},
     "output_type": "display_data"
    }
   ],
   "source": [
    "sales_per_agent_query2 = \"\"\"\n",
    "\n",
    "SELECT \n",
    "    e1.first_name || \" \" || e1.last_name sales_agent,\n",
    "\n",
    "    e1.hire_date,\n",
    "    ROUND(SUM(i.total),2) total_sales,\n",
    "    ROUND(SUM(i.total),2)/(julianday('now') - julianday(e1.hire_date)) sales_per_workday\n",
    "FROM employee e1\n",
    "INNER JOIN customer c ON e1.employee_id = c.support_rep_id\n",
    "INNER JOIN invoice i ON i.customer_id = c.customer_id\n",
    "GROUP BY e1.employee_id\n",
    "HAVING e1.title = \"Sales Support Agent\"\n",
    "ORDER BY total_sales DESC\n",
    "\"\"\"\n",
    "\n",
    "sales_per_agent2 = run_query(sales_per_agent_query2)\n",
    "print(sales_per_agent2)\n",
    "sales_per_agent2.plot.bar(x=\"sales_agent\",y=\"sales_per_workday\")"
   ]
  },
  {
   "cell_type": "markdown",
   "metadata": {
    "collapsed": true
   },
   "source": [
    "I added a column for sales amount per days worked for the company, and it looks like there's an inverse relationship between that and how long someone has worked for the company.  The extra column doesn't account for days off, so it isn't 100% accurate."
   ]
  },
  {
   "cell_type": "markdown",
   "metadata": {},
   "source": [
    "## Sales Data by Country\n",
    "\n",
    "The store is interested in analyzing sales data countries where they have had customers, in order to reveal any interesting trends."
   ]
  },
  {
   "cell_type": "code",
   "execution_count": 5,
   "metadata": {},
   "outputs": [
    {
     "data": {
      "text/html": [
       "<div>\n",
       "<table border=\"1\" class=\"dataframe\">\n",
       "  <thead>\n",
       "    <tr style=\"text-align: right;\">\n",
       "      <th></th>\n",
       "      <th>nation</th>\n",
       "      <th>num_of_customers</th>\n",
       "      <th>total_sales_country</th>\n",
       "      <th>average_order_value</th>\n",
       "      <th>average_value_per_customer</th>\n",
       "    </tr>\n",
       "  </thead>\n",
       "  <tbody>\n",
       "    <tr>\n",
       "      <th>0</th>\n",
       "      <td>USA</td>\n",
       "      <td>13</td>\n",
       "      <td>1040.49</td>\n",
       "      <td>7.942672</td>\n",
       "      <td>80.037692</td>\n",
       "    </tr>\n",
       "    <tr>\n",
       "      <th>1</th>\n",
       "      <td>Canada</td>\n",
       "      <td>8</td>\n",
       "      <td>535.59</td>\n",
       "      <td>7.047237</td>\n",
       "      <td>66.948750</td>\n",
       "    </tr>\n",
       "    <tr>\n",
       "      <th>2</th>\n",
       "      <td>Brazil</td>\n",
       "      <td>5</td>\n",
       "      <td>427.68</td>\n",
       "      <td>7.011148</td>\n",
       "      <td>85.536000</td>\n",
       "    </tr>\n",
       "    <tr>\n",
       "      <th>3</th>\n",
       "      <td>France</td>\n",
       "      <td>5</td>\n",
       "      <td>389.07</td>\n",
       "      <td>7.781400</td>\n",
       "      <td>77.814000</td>\n",
       "    </tr>\n",
       "    <tr>\n",
       "      <th>4</th>\n",
       "      <td>Germany</td>\n",
       "      <td>4</td>\n",
       "      <td>334.62</td>\n",
       "      <td>8.161463</td>\n",
       "      <td>83.655000</td>\n",
       "    </tr>\n",
       "    <tr>\n",
       "      <th>5</th>\n",
       "      <td>Czech Republic</td>\n",
       "      <td>2</td>\n",
       "      <td>273.24</td>\n",
       "      <td>9.108000</td>\n",
       "      <td>136.620000</td>\n",
       "    </tr>\n",
       "    <tr>\n",
       "      <th>6</th>\n",
       "      <td>United Kingdom</td>\n",
       "      <td>3</td>\n",
       "      <td>245.52</td>\n",
       "      <td>8.768571</td>\n",
       "      <td>81.840000</td>\n",
       "    </tr>\n",
       "    <tr>\n",
       "      <th>7</th>\n",
       "      <td>Portugal</td>\n",
       "      <td>2</td>\n",
       "      <td>185.13</td>\n",
       "      <td>6.383793</td>\n",
       "      <td>92.565000</td>\n",
       "    </tr>\n",
       "    <tr>\n",
       "      <th>8</th>\n",
       "      <td>India</td>\n",
       "      <td>2</td>\n",
       "      <td>183.15</td>\n",
       "      <td>8.721429</td>\n",
       "      <td>91.575000</td>\n",
       "    </tr>\n",
       "    <tr>\n",
       "      <th>9</th>\n",
       "      <td>Other</td>\n",
       "      <td>15</td>\n",
       "      <td>1094.94</td>\n",
       "      <td>7.445071</td>\n",
       "      <td>72.996000</td>\n",
       "    </tr>\n",
       "  </tbody>\n",
       "</table>\n",
       "</div>"
      ],
      "text/plain": [
       "           nation  num_of_customers  total_sales_country  average_order_value  \\\n",
       "0             USA                13              1040.49             7.942672   \n",
       "1          Canada                 8               535.59             7.047237   \n",
       "2          Brazil                 5               427.68             7.011148   \n",
       "3          France                 5               389.07             7.781400   \n",
       "4         Germany                 4               334.62             8.161463   \n",
       "5  Czech Republic                 2               273.24             9.108000   \n",
       "6  United Kingdom                 3               245.52             8.768571   \n",
       "7        Portugal                 2               185.13             6.383793   \n",
       "8           India                 2               183.15             8.721429   \n",
       "9           Other                15              1094.94             7.445071   \n",
       "\n",
       "   average_value_per_customer  \n",
       "0                   80.037692  \n",
       "1                   66.948750  \n",
       "2                   85.536000  \n",
       "3                   77.814000  \n",
       "4                   83.655000  \n",
       "5                  136.620000  \n",
       "6                   81.840000  \n",
       "7                   92.565000  \n",
       "8                   91.575000  \n",
       "9                   72.996000  "
      ]
     },
     "execution_count": 5,
     "metadata": {},
     "output_type": "execute_result"
    }
   ],
   "source": [
    "# Writing a query that collates data on purchases from different countries, \n",
    "# which includes columns for total number of customers, total value of sales\n",
    "# average value of sales per customer, and average order value.  Countries\n",
    "# with just one customer are lumped together into an \"Other\" group, and\n",
    "# that group is listed last.\n",
    "\n",
    "\n",
    "country_sales_query = \"\"\"\n",
    "\n",
    "WITH \n",
    "    total_customers AS (\n",
    "        SELECT country nation, COUNT(*) num_of_customers \n",
    "        FROM customer \n",
    "        GROUP BY country\n",
    "     ), \n",
    "    total_value AS(\n",
    "        SELECT c.country nation, SUM(i.total) total_sales, AVG(i.total) avg_sales\n",
    "        FROM invoice i \n",
    "        INNER JOIN customer c ON c.customer_id = i.customer_id\n",
    "        GROUP BY nation\n",
    "      ),\n",
    "    multi_customer_countries AS (\n",
    "        SELECT \n",
    "            tc.nation, \n",
    "            tc.num_of_customers, \n",
    "            tv.total_sales total_sales_country,\n",
    "            CAST(tv.total_sales as float)/CAST(tc.num_of_customers as Float) average_value_per_customer,\n",
    "            tv.avg_sales average_order_value \n",
    "        FROM total_customers tc\n",
    "        INNER join total_value tv ON tv.nation = tc.nation\n",
    "        WHERE tc.num_of_customers > 1\n",
    "      ), \n",
    "    other_countries AS (\n",
    "        SELECT \n",
    "            CASE\n",
    "                WHEN tc.num_of_customers = 1 THEN \"Other\"\n",
    "            END\n",
    "            as nation,\n",
    "            COUNT(*) num_of_customers,\n",
    "            SUM(tv.total_sales) total_sales_country,\n",
    "            CAST(SUM(tv.total_sales) AS float)/CAST(COUNT(*) as FLOAT) average_value_per_customer,\n",
    "            AVG(tv.avg_sales) avg_order_value\n",
    "        FROM total_customers tc\n",
    "        INNER join total_value tv ON tv.nation = tc.nation\n",
    "        WHERE tc.num_of_customers = 1\n",
    "      ),\n",
    "    final_sales as (\n",
    "        SELECT * FROM multi_customer_countries\n",
    "        UNION\n",
    "        SELECT * FROM other_countries\n",
    "      )\n",
    "      \n",
    "SELECT nation, num_of_customers, total_sales_country, average_order_value, average_value_per_customer\n",
    "FROM (\n",
    "  SELECT\n",
    "      fs.*,\n",
    "      CASE\n",
    "          WHEN fs.nation = \"Other\" THEN 1\n",
    "          ELSE 0\n",
    "      end AS sort\n",
    "  FROM final_sales fs\n",
    "  )\n",
    "order by sort ASC, total_sales_country DESC\n",
    "\n",
    "\"\"\"\n",
    "\n",
    "run_query(country_sales_query)"
   ]
  },
  {
   "cell_type": "code",
   "execution_count": 6,
   "metadata": {
    "collapsed": true
   },
   "outputs": [],
   "source": [
    "# Creating a dataframe without the 'Other' categoty\n",
    "\n",
    "data1 = run_query(country_sales_query)\n",
    "country_data = data1[0:9].set_index(\"nation\", drop=False)"
   ]
  },
  {
   "cell_type": "code",
   "execution_count": 7,
   "metadata": {},
   "outputs": [
    {
     "data": {
      "text/plain": [
       "<matplotlib.axes._subplots.AxesSubplot at 0x7f421bf79588>"
      ]
     },
     "execution_count": 7,
     "metadata": {},
     "output_type": "execute_result"
    },
    {
     "data": {
      "image/png": "[encoded data removed]",
      "text/plain": [
       "<matplotlib.figure.Figure at 0x7f421bf6eda0>"
      ]
     },
     "metadata": {},
     "output_type": "display_data"
    }
   ],
   "source": [
    "# Creating a pie chart for Total Sales per Country\n",
    "\n",
    "country_data.sort_values(by='total_sales_country', ascending=False).plot.bar(y='total_sales_country', \n",
    "                      legend=False, title=\"Total Sales per Country\")"
   ]
  },
  {
   "cell_type": "code",
   "execution_count": 8,
   "metadata": {},
   "outputs": [
    {
     "data": {
      "text/plain": [
       "<matplotlib.axes._subplots.AxesSubplot at 0x7f421beee8d0>"
      ]
     },
     "execution_count": 8,
     "metadata": {},
     "output_type": "execute_result"
    },
    {
     "data": {
      "image/png": "[encoded data removed]",
      "text/plain": [
       "<matplotlib.figure.Figure at 0x7f421bf06710>"
      ]
     },
     "metadata": {},
     "output_type": "display_data"
    }
   ],
   "source": [
    "# Creating a bar chart for number of customers per country\n",
    "\n",
    "country_data.sort_values(by='num_of_customers', ascending=False).plot.bar(y='num_of_customers', title=\"Number of Customers per Country\")\n"
   ]
  },
  {
   "cell_type": "markdown",
   "metadata": {},
   "source": [
    "The United States has the largest number of sales for any country, followed by Canada, Brazil, and France.  This makes sense, since those 4 countries make up the largest 4 providers of customers, respectively.  "
   ]
  },
  {
   "cell_type": "code",
   "execution_count": 9,
   "metadata": {},
   "outputs": [
    {
     "data": {
      "text/plain": [
       "<matplotlib.axes._subplots.AxesSubplot at 0x7f421be76320>"
      ]
     },
     "execution_count": 9,
     "metadata": {},
     "output_type": "execute_result"
    },
    {
     "data": {
      "image/png": "[encoded data removed]",
      "text/plain": [
       "<matplotlib.figure.Figure at 0x7f421be52b38>"
      ]
     },
     "metadata": {},
     "output_type": "display_data"
    }
   ],
   "source": [
    "country_data.sort_values(by='average_value_per_customer').plot.barh(y='average_value_per_customer', legend=False, title=\"Average Value per Customer per Country\")"
   ]
  },
  {
   "cell_type": "code",
   "execution_count": 10,
   "metadata": {},
   "outputs": [
    {
     "data": {
      "text/plain": [
       "<matplotlib.axes._subplots.AxesSubplot at 0x7f421bdfc1d0>"
      ]
     },
     "execution_count": 10,
     "metadata": {},
     "output_type": "execute_result"
    },
    {
     "data": {
      "image/png": "[encoded data removed]",
      "text/plain": [
       "<matplotlib.figure.Figure at 0x7f421bdcea90>"
      ]
     },
     "metadata": {},
     "output_type": "display_data"
    }
   ],
   "source": [
    "country_data.sort_values(by='average_order_value').plot.barh(y='average_order_value', legend=True, title=\"Average Value per Order per Country\")"
   ]
  },
  {
   "cell_type": "markdown",
   "metadata": {},
   "source": [
    "However, when examining the averages of sales per order and per customer, India and the Czech Republic lead the way.  While they have a few customers, they, on average, spent more money on music than customers from the 4 highest grossing nations.  Those may be markets to consider in the future."
   ]
  },
  {
   "cell_type": "markdown",
   "metadata": {},
   "source": [
    "## Should the store continue to sell full albums, or only sell singles?\n",
    "\n",
    "The music store is considering a strategy to purchase only the most popular tracks from each album from record companies, instead of purchasing every track from an album.  In order to make this decision, it would be best to determine the percentage of purchases are individual tracks vs whole albums."
   ]
  },
  {
   "cell_type": "code",
   "execution_count": 11,
   "metadata": {},
   "outputs": [
    {
     "data": {
      "text/html": [
       "<div>\n",
       "<table border=\"1\" class=\"dataframe\">\n",
       "  <thead>\n",
       "    <tr style=\"text-align: right;\">\n",
       "      <th></th>\n",
       "      <th>Users That Bought Full Album</th>\n",
       "      <th>Number of Invoices</th>\n",
       "      <th>Percentage of Invoices</th>\n",
       "    </tr>\n",
       "  </thead>\n",
       "  <tbody>\n",
       "    <tr>\n",
       "      <th>0</th>\n",
       "      <td>No</td>\n",
       "      <td>500</td>\n",
       "      <td>0.814332</td>\n",
       "    </tr>\n",
       "    <tr>\n",
       "      <th>1</th>\n",
       "      <td>Yes</td>\n",
       "      <td>111</td>\n",
       "      <td>0.180782</td>\n",
       "    </tr>\n",
       "  </tbody>\n",
       "</table>\n",
       "</div>"
      ],
      "text/plain": [
       "  Users That Bought Full Album  Number of Invoices  Percentage of Invoices\n",
       "0                           No                 500                0.814332\n",
       "1                          Yes                 111                0.180782"
      ]
     },
     "execution_count": 11,
     "metadata": {},
     "output_type": "execute_result"
    }
   ],
   "source": [
    "# Writing a query that categorizes each invoice as either an album purchase \n",
    "# or not, and calculates the number and percentage of invoices that match\n",
    "# either scenario\n",
    "\n",
    "album_query = \"\"\"\n",
    "\n",
    "WITH \n",
    "multi_track AS(\n",
    "  SELECT al.album_id, COUNT(*) num_of_tracks FROM track t\n",
    "  INNER JOIN album al on al.album_id = t.album_id\n",
    "  GROUP BY al.album_id\n",
    "  ),\n",
    "full_albums AS (\n",
    "  SELECT t.name track_name, al.title album_title, t.track_id, al.album_id\n",
    "  FROM track t\n",
    "  inner join album al ON al.album_id = t.album_id\n",
    "  INNER JOIN multi_track mt on mt.album_id = al.album_id\n",
    "  WHERE mt.num_of_tracks > 1\n",
    "  ),\n",
    "invoice_albums AS (\n",
    "  SELECT t.name track_name, al.title album_title, t.track_id, il.invoice_id, al.album_id\n",
    "  FROM track t\n",
    "  INNER JOIN invoice_line il on il.track_id = t.track_id\n",
    "  inner join album al ON al.album_id = t.album_id\n",
    "  ), \n",
    "invoice_full_album_status AS (\n",
    "    SELECT \n",
    "    DISTINCT ia.invoice_id invoice,\n",
    "    ia.album_title album,\n",
    "    CASE\n",
    "      when\n",
    "        (\n",
    "        SELECT fa2.track_name from full_albums fa2 WHERE fa2.album_id = fa.album_id\n",
    "        EXCEPT\n",
    "        SELECT ia2.track_name from invoice_albums ia2 WHERE ia2.invoice_id = ia.invoice_id AND ia2.album_id = ia.album_id) IS NULL \n",
    "        AND (\n",
    "        SELECT ia3.track_name from invoice_albums ia3 WHERE ia3.invoice_id = ia.invoice_id AND ia3.album_id = ia.album_id\n",
    "        EXCEPT\n",
    "        SELECT fa3.track_name from full_albums fa3 WHERE fa3.album_id = fa.album_id) IS NULL\n",
    "        THEN 1 ELSE 0 END AS bought_full_album\n",
    "    FROM full_albums fa\n",
    "    INNER JOIN invoice_albums ia on ia.track_id = fa.track_id\n",
    "    ORDER BY ia.invoice_id\n",
    "    )\n",
    "    \n",
    "    \n",
    "SELECT\n",
    "  CASE\n",
    "    When ifas.bought_full_album = 1 THEN \"Yes\"\n",
    "    ELSE \"No\" END as \"Users That Bought Full Album\",\n",
    "  CASE\n",
    "    When ifas.bought_full_album = 1 THEN (SELECT COUNT(distinct ifas1.invoice) FROM invoice_full_album_status ifas1 WHERE ifas1.bought_full_album = 1)\n",
    "    ELSE (SELECT COUNT(distinct ifas0.invoice) FROM invoice_full_album_status ifas0 WHERE ifas0.bought_full_album = 0) END as \"Number of Invoices\",\n",
    "  CASE\n",
    "    When ifas.bought_full_album = 1 THEN (SELECT CAST(COUNT(distinct ifas1.invoice) AS Float)/CAST((SELECT COUNT(*) FROM invoice) AS float) FROM invoice_full_album_status ifas1 WHERE ifas1.bought_full_album = 1)\n",
    "    ELSE (SELECT CAST(COUNT(distinct ifas0.invoice) AS Float)/CAST((SELECT COUNT(*) FROM invoice) AS float) FROM invoice_full_album_status ifas0 WHERE ifas0.bought_full_album = 0) END as \"Percentage of Invoices\"\n",
    "FROM invoice_full_album_status ifas\n",
    "GROUP BY ifas.bought_full_album\n",
    "\n",
    "\"\"\"\n",
    "\n",
    "run_query(album_query)"
   ]
  },
  {
   "cell_type": "markdown",
   "metadata": {
    "collapsed": true
   },
   "source": [
    "It appears that only about a fifth of purchases were of full albums, so it would be a reasonable strategy to only sell singles on the site."
   ]
  },
  {
   "cell_type": "code",
   "execution_count": null,
   "metadata": {
    "collapsed": true
   },
   "outputs": [],
   "source": []
  }
 ],
 "metadata": {
  "kernelspec": {
   "display_name": "Python 3",
   "language": "python",
   "name": "python3"
  },
  "language_info": {
   "codemirror_mode": {
    "name": "ipython",
    "version": 3
   },
   "file_extension": ".py",
   "mimetype": "text/x-python",
   "name": "python",
   "nbconvert_exporter": "python",
   "pygments_lexer": "ipython3",
   "version": "3.7.1"
  }
 },
 "nbformat": 4,
 "nbformat_minor": 2
}
