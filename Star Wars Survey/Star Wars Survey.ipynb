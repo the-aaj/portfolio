{
 "cells": [
  {
   "cell_type": "markdown",
   "metadata": {},
   "source": [
    "![Star Wars Logo](https://i.ytimg.com/vi/_D0ZQPqeJkk/hqdefault.jpg)\n",
    "\n",
    "# Survey of Opinions on Star Wars\n",
    "\n",
    "An analysis of survey results where respondents were asked questions about their feelings on the films in the Star Wars franchise.  The survey was conducted a year prior to the release of Episode 7: The Force Awakens."
   ]
  },
  {
   "cell_type": "code",
   "execution_count": 1,
   "metadata": {},
   "outputs": [
    {
     "data": {
      "text/html": [
       "<div>\n",
       "<style scoped>\n",
       "    .dataframe tbody tr th:only-of-type {\n",
       "        vertical-align: middle;\n",
       "    }\n",
       "\n",
       "    .dataframe tbody tr th {\n",
       "        vertical-align: top;\n",
       "    }\n",
       "\n",
       "    .dataframe thead th {\n",
       "        text-align: right;\n",
       "    }\n",
       "</style>\n",
       "<table border=\"1\" class=\"dataframe\">\n",
       "  <thead>\n",
       "    <tr style=\"text-align: right;\">\n",
       "      <th></th>\n",
       "      <th>RespondentID</th>\n",
       "      <th>Have you seen any of the 6 films in the Star Wars franchise?</th>\n",
       "      <th>Do you consider yourself to be a fan of the Star Wars film franchise?</th>\n",
       "      <th>Which of the following Star Wars films have you seen? Please select all that apply.</th>\n",
       "      <th>Unnamed: 4</th>\n",
       "      <th>Unnamed: 5</th>\n",
       "      <th>Unnamed: 6</th>\n",
       "      <th>Unnamed: 7</th>\n",
       "      <th>Unnamed: 8</th>\n",
       "      <th>Please rank the Star Wars films in order of preference with 1 being your favorite film in the franchise and 6 being your least favorite film.</th>\n",
       "      <th>...</th>\n",
       "      <th>Unnamed: 28</th>\n",
       "      <th>Which character shot first?</th>\n",
       "      <th>Are you familiar with the Expanded Universe?</th>\n",
       "      <th>Do you consider yourself to be a fan of the Expanded Universe?ÂÃ¦</th>\n",
       "      <th>Do you consider yourself to be a fan of the Star Trek franchise?</th>\n",
       "      <th>Gender</th>\n",
       "      <th>Age</th>\n",
       "      <th>Household Income</th>\n",
       "      <th>Education</th>\n",
       "      <th>Location (Census Region)</th>\n",
       "    </tr>\n",
       "  </thead>\n",
       "  <tbody>\n",
       "    <tr>\n",
       "      <td>0</td>\n",
       "      <td>NaN</td>\n",
       "      <td>Response</td>\n",
       "      <td>Response</td>\n",
       "      <td>Star Wars: Episode I  The Phantom Menace</td>\n",
       "      <td>Star Wars: Episode II  Attack of the Clones</td>\n",
       "      <td>Star Wars: Episode III  Revenge of the Sith</td>\n",
       "      <td>Star Wars: Episode IV  A New Hope</td>\n",
       "      <td>Star Wars: Episode V The Empire Strikes Back</td>\n",
       "      <td>Star Wars: Episode VI Return of the Jedi</td>\n",
       "      <td>Star Wars: Episode I  The Phantom Menace</td>\n",
       "      <td>...</td>\n",
       "      <td>Yoda</td>\n",
       "      <td>Response</td>\n",
       "      <td>Response</td>\n",
       "      <td>Response</td>\n",
       "      <td>Response</td>\n",
       "      <td>Response</td>\n",
       "      <td>Response</td>\n",
       "      <td>Response</td>\n",
       "      <td>Response</td>\n",
       "      <td>Response</td>\n",
       "    </tr>\n",
       "    <tr>\n",
       "      <td>1</td>\n",
       "      <td>3.292880e+09</td>\n",
       "      <td>Yes</td>\n",
       "      <td>Yes</td>\n",
       "      <td>Star Wars: Episode I  The Phantom Menace</td>\n",
       "      <td>Star Wars: Episode II  Attack of the Clones</td>\n",
       "      <td>Star Wars: Episode III  Revenge of the Sith</td>\n",
       "      <td>Star Wars: Episode IV  A New Hope</td>\n",
       "      <td>Star Wars: Episode V The Empire Strikes Back</td>\n",
       "      <td>Star Wars: Episode VI Return of the Jedi</td>\n",
       "      <td>3</td>\n",
       "      <td>...</td>\n",
       "      <td>Very favorably</td>\n",
       "      <td>I don't understand this question</td>\n",
       "      <td>Yes</td>\n",
       "      <td>No</td>\n",
       "      <td>No</td>\n",
       "      <td>Male</td>\n",
       "      <td>18-29</td>\n",
       "      <td>NaN</td>\n",
       "      <td>High school degree</td>\n",
       "      <td>South Atlantic</td>\n",
       "    </tr>\n",
       "    <tr>\n",
       "      <td>2</td>\n",
       "      <td>3.292880e+09</td>\n",
       "      <td>No</td>\n",
       "      <td>NaN</td>\n",
       "      <td>NaN</td>\n",
       "      <td>NaN</td>\n",
       "      <td>NaN</td>\n",
       "      <td>NaN</td>\n",
       "      <td>NaN</td>\n",
       "      <td>NaN</td>\n",
       "      <td>NaN</td>\n",
       "      <td>...</td>\n",
       "      <td>NaN</td>\n",
       "      <td>NaN</td>\n",
       "      <td>NaN</td>\n",
       "      <td>NaN</td>\n",
       "      <td>Yes</td>\n",
       "      <td>Male</td>\n",
       "      <td>18-29</td>\n",
       "      <td>$0 - $24,999</td>\n",
       "      <td>Bachelor degree</td>\n",
       "      <td>West South Central</td>\n",
       "    </tr>\n",
       "    <tr>\n",
       "      <td>3</td>\n",
       "      <td>3.292765e+09</td>\n",
       "      <td>Yes</td>\n",
       "      <td>No</td>\n",
       "      <td>Star Wars: Episode I  The Phantom Menace</td>\n",
       "      <td>Star Wars: Episode II  Attack of the Clones</td>\n",
       "      <td>Star Wars: Episode III  Revenge of the Sith</td>\n",
       "      <td>NaN</td>\n",
       "      <td>NaN</td>\n",
       "      <td>NaN</td>\n",
       "      <td>1</td>\n",
       "      <td>...</td>\n",
       "      <td>Unfamiliar (N/A)</td>\n",
       "      <td>I don't understand this question</td>\n",
       "      <td>No</td>\n",
       "      <td>NaN</td>\n",
       "      <td>No</td>\n",
       "      <td>Male</td>\n",
       "      <td>18-29</td>\n",
       "      <td>$0 - $24,999</td>\n",
       "      <td>High school degree</td>\n",
       "      <td>West North Central</td>\n",
       "    </tr>\n",
       "    <tr>\n",
       "      <td>4</td>\n",
       "      <td>3.292763e+09</td>\n",
       "      <td>Yes</td>\n",
       "      <td>Yes</td>\n",
       "      <td>Star Wars: Episode I  The Phantom Menace</td>\n",
       "      <td>Star Wars: Episode II  Attack of the Clones</td>\n",
       "      <td>Star Wars: Episode III  Revenge of the Sith</td>\n",
       "      <td>Star Wars: Episode IV  A New Hope</td>\n",
       "      <td>Star Wars: Episode V The Empire Strikes Back</td>\n",
       "      <td>Star Wars: Episode VI Return of the Jedi</td>\n",
       "      <td>5</td>\n",
       "      <td>...</td>\n",
       "      <td>Very favorably</td>\n",
       "      <td>I don't understand this question</td>\n",
       "      <td>No</td>\n",
       "      <td>NaN</td>\n",
       "      <td>Yes</td>\n",
       "      <td>Male</td>\n",
       "      <td>18-29</td>\n",
       "      <td>$100,000 - $149,999</td>\n",
       "      <td>Some college or Associate degree</td>\n",
       "      <td>West North Central</td>\n",
       "    </tr>\n",
       "  </tbody>\n",
       "</table>\n",
       "<p>5 rows × 38 columns</p>\n",
       "</div>"
      ],
      "text/plain": [
       "   RespondentID Have you seen any of the 6 films in the Star Wars franchise?  \\\n",
       "0           NaN                                           Response             \n",
       "1  3.292880e+09                                                Yes             \n",
       "2  3.292880e+09                                                 No             \n",
       "3  3.292765e+09                                                Yes             \n",
       "4  3.292763e+09                                                Yes             \n",
       "\n",
       "  Do you consider yourself to be a fan of the Star Wars film franchise?  \\\n",
       "0                                           Response                      \n",
       "1                                                Yes                      \n",
       "2                                                NaN                      \n",
       "3                                                 No                      \n",
       "4                                                Yes                      \n",
       "\n",
       "  Which of the following Star Wars films have you seen? Please select all that apply.  \\\n",
       "0           Star Wars: Episode I  The Phantom Menace                                    \n",
       "1           Star Wars: Episode I  The Phantom Menace                                    \n",
       "2                                                NaN                                    \n",
       "3           Star Wars: Episode I  The Phantom Menace                                    \n",
       "4           Star Wars: Episode I  The Phantom Menace                                    \n",
       "\n",
       "                                    Unnamed: 4  \\\n",
       "0  Star Wars: Episode II  Attack of the Clones   \n",
       "1  Star Wars: Episode II  Attack of the Clones   \n",
       "2                                          NaN   \n",
       "3  Star Wars: Episode II  Attack of the Clones   \n",
       "4  Star Wars: Episode II  Attack of the Clones   \n",
       "\n",
       "                                    Unnamed: 5  \\\n",
       "0  Star Wars: Episode III  Revenge of the Sith   \n",
       "1  Star Wars: Episode III  Revenge of the Sith   \n",
       "2                                          NaN   \n",
       "3  Star Wars: Episode III  Revenge of the Sith   \n",
       "4  Star Wars: Episode III  Revenge of the Sith   \n",
       "\n",
       "                          Unnamed: 6  \\\n",
       "0  Star Wars: Episode IV  A New Hope   \n",
       "1  Star Wars: Episode IV  A New Hope   \n",
       "2                                NaN   \n",
       "3                                NaN   \n",
       "4  Star Wars: Episode IV  A New Hope   \n",
       "\n",
       "                                     Unnamed: 7  \\\n",
       "0  Star Wars: Episode V The Empire Strikes Back   \n",
       "1  Star Wars: Episode V The Empire Strikes Back   \n",
       "2                                           NaN   \n",
       "3                                           NaN   \n",
       "4  Star Wars: Episode V The Empire Strikes Back   \n",
       "\n",
       "                                 Unnamed: 8  \\\n",
       "0  Star Wars: Episode VI Return of the Jedi   \n",
       "1  Star Wars: Episode VI Return of the Jedi   \n",
       "2                                       NaN   \n",
       "3                                       NaN   \n",
       "4  Star Wars: Episode VI Return of the Jedi   \n",
       "\n",
       "  Please rank the Star Wars films in order of preference with 1 being your favorite film in the franchise and 6 being your least favorite film.  \\\n",
       "0           Star Wars: Episode I  The Phantom Menace                                                                                              \n",
       "1                                                  3                                                                                              \n",
       "2                                                NaN                                                                                              \n",
       "3                                                  1                                                                                              \n",
       "4                                                  5                                                                                              \n",
       "\n",
       "   ...       Unnamed: 28       Which character shot first?  \\\n",
       "0  ...              Yoda                          Response   \n",
       "1  ...    Very favorably  I don't understand this question   \n",
       "2  ...               NaN                               NaN   \n",
       "3  ...  Unfamiliar (N/A)  I don't understand this question   \n",
       "4  ...    Very favorably  I don't understand this question   \n",
       "\n",
       "  Are you familiar with the Expanded Universe?  \\\n",
       "0                                     Response   \n",
       "1                                          Yes   \n",
       "2                                          NaN   \n",
       "3                                           No   \n",
       "4                                           No   \n",
       "\n",
       "  Do you consider yourself to be a fan of the Expanded Universe?ÂÃ¦  \\\n",
       "0                                           Response                   \n",
       "1                                                 No                   \n",
       "2                                                NaN                   \n",
       "3                                                NaN                   \n",
       "4                                                NaN                   \n",
       "\n",
       "  Do you consider yourself to be a fan of the Star Trek franchise?    Gender  \\\n",
       "0                                           Response                Response   \n",
       "1                                                 No                    Male   \n",
       "2                                                Yes                    Male   \n",
       "3                                                 No                    Male   \n",
       "4                                                Yes                    Male   \n",
       "\n",
       "        Age     Household Income                         Education  \\\n",
       "0  Response             Response                          Response   \n",
       "1     18-29                  NaN                High school degree   \n",
       "2     18-29         $0 - $24,999                   Bachelor degree   \n",
       "3     18-29         $0 - $24,999                High school degree   \n",
       "4     18-29  $100,000 - $149,999  Some college or Associate degree   \n",
       "\n",
       "  Location (Census Region)  \n",
       "0                 Response  \n",
       "1           South Atlantic  \n",
       "2       West South Central  \n",
       "3       West North Central  \n",
       "4       West North Central  \n",
       "\n",
       "[5 rows x 38 columns]"
      ]
     },
     "execution_count": 1,
     "metadata": {},
     "output_type": "execute_result"
    }
   ],
   "source": [
    "import pandas as pd\n",
    "import numpy as np\n",
    "import matplotlib.pyplot as plt\n",
    "%matplotlib inline\n",
    "\n",
    "star_wars = pd.read_csv(\"star_wars.csv\", encoding=\"ISO-8859-1\")\n",
    "star_wars.head(5)"
   ]
  },
  {
   "cell_type": "markdown",
   "metadata": {},
   "source": [
    "## Curating, organizing, and cleaning the data\n",
    "\n",
    "The dataset comes a [FiveThirtyEight](https://fivethirtyeight.com/features/americas-favorite-star-wars-movies-and-least-favorite-characters/) article.  There are some formatting issues that need to be addressed before analysis is performed.\n",
    "\n",
    "\n",
    "The first row is additional header information, and some of the columns should be combined with the current header.  The first set of columns, 3 through 8, ask the user if they have seen each of the 6 Star Wars films.  The next six columns, 9 through 14, ask users to rank each of the films, from 1st to 6th.  The headers will be adjusted to reflect this."
   ]
  },
  {
   "cell_type": "code",
   "execution_count": 2,
   "metadata": {},
   "outputs": [],
   "source": [
    "# Storing the first row as a list for future use\n",
    "second_header = list(star_wars.loc[0]) \n",
    "\n",
    "# Creating one list of film names and another for characters, to be used for labeling plots\n",
    "film_names = second_header[3:9]\n",
    "characters = second_header[15:29]\n",
    "\n",
    "\n",
    "# Removing the first row from the dataset\n",
    "star_wars = star_wars[pd.notnull(star_wars[\"RespondentID\"])]"
   ]
  },
  {
   "cell_type": "code",
   "execution_count": 3,
   "metadata": {},
   "outputs": [
    {
     "data": {
      "text/plain": [
       "Index(['I have seen Star Wars: Episode I  The Phantom Menace',\n",
       "       'I have seen Star Wars: Episode II  Attack of the Clones',\n",
       "       'I have seen Star Wars: Episode III  Revenge of the Sith',\n",
       "       'I have seen Star Wars: Episode IV  A New Hope',\n",
       "       'I have seen Star Wars: Episode V The Empire Strikes Back',\n",
       "       'I have seen Star Wars: Episode VI Return of the Jedi',\n",
       "       'Rank of Star Wars: Episode I  The Phantom Menace',\n",
       "       'Rank of Star Wars: Episode II  Attack of the Clones',\n",
       "       'Rank of Star Wars: Episode III  Revenge of the Sith',\n",
       "       'Rank of Star Wars: Episode IV  A New Hope',\n",
       "       'Rank of Star Wars: Episode V The Empire Strikes Back',\n",
       "       'Rank of Star Wars: Episode VI Return of the Jedi'],\n",
       "      dtype='object')"
      ]
     },
     "execution_count": 3,
     "metadata": {},
     "output_type": "execute_result"
    }
   ],
   "source": [
    "# Renaming columns 3 through 14 to clarify what the questions was asking\n",
    "# Columns 3-8 ask users if they have seen each of the 6 Star Wars films\n",
    "# Columns 9-14 ask users to rank each movie on a scale of 1 to 6, with 1 being the best \n",
    "\n",
    "for r in range(3,9):\n",
    "    new_name_seen = \"I have seen \" + second_header[r]\n",
    "    new_name_rank = \"Rank of \" + second_header[r]\n",
    "    star_wars.rename(columns = {star_wars.columns[r]:new_name_seen}, inplace=True)\n",
    "    star_wars.rename(columns = {star_wars.columns[r+6]:new_name_rank}, inplace=True)\n",
    "    \n",
    "star_wars.columns[3:15]"
   ]
  },
  {
   "cell_type": "markdown",
   "metadata": {},
   "source": [
    "The next set of columns, 15 through 28, ask users their opinions on certain characters in the franchise.  Those columns will be renamed appropriately."
   ]
  },
  {
   "cell_type": "code",
   "execution_count": 4,
   "metadata": {},
   "outputs": [
    {
     "data": {
      "text/plain": [
       "Index(['My view of Han Solo', 'My view of Luke Skywalker',\n",
       "       'My view of Princess Leia Organa', 'My view of Anakin Skywalker',\n",
       "       'My view of Obi Wan Kenobi', 'My view of Emperor Palpatine',\n",
       "       'My view of Darth Vader', 'My view of Lando Calrissian',\n",
       "       'My view of Boba Fett', 'My view of C-3P0', 'My view of R2 D2',\n",
       "       'My view of Jar Jar Binks', 'My view of Padme Amidala',\n",
       "       'My view of Yoda'],\n",
       "      dtype='object')"
      ]
     },
     "execution_count": 4,
     "metadata": {},
     "output_type": "execute_result"
    }
   ],
   "source": [
    "# Renaming columns 15 through 28 to clarify that the questions asked the users' opinions on certain characters\n",
    "\n",
    "for r in range(15,29):\n",
    "    new_name_view = \"My view of \" + second_header[r]\n",
    "    star_wars.rename(columns = {star_wars.columns[r]:new_name_view}, inplace=True)\n",
    "    \n",
    "star_wars.columns[15:29]"
   ]
  },
  {
   "cell_type": "markdown",
   "metadata": {},
   "source": [
    "There are a number of columns that have Yes/No answers, and they can be converted to Boolean values."
   ]
  },
  {
   "cell_type": "code",
   "execution_count": 5,
   "metadata": {},
   "outputs": [],
   "source": [
    "# Converting the following columns from Yes/No to True/False:\n",
    "# \"Have you seen any of the 6 films in the Star Wars franchise?\"\n",
    "# \"Do you consider yourself to be a fan of the Star Wars film franchise?\"\n",
    "\n",
    "yes_no = {\n",
    "    \"Yes\": True,\n",
    "    \"No\": False\n",
    "}\n",
    "\n",
    "star_wars[\"Have you seen any of the 6 films in the Star Wars franchise?\"] = star_wars[\"Have you seen any of the 6 films in the Star Wars franchise?\"].map(yes_no)\n",
    "star_wars[\"Do you consider yourself to be a fan of the Star Wars film franchise?\"] = star_wars[\"Do you consider yourself to be a fan of the Star Wars film franchise?\"].map(yes_no)\n",
    "\n",
    "\n",
    "# Converting the 6 columns representing whether or not a respondent saw a movie from\n",
    "# the movie title to True or False\n",
    "\n",
    "movies = {\n",
    "    \"Star Wars: Episode I  The Phantom Menace\": True,\n",
    "    \"Star Wars: Episode II  Attack of the Clones\": True,\n",
    "    \"Star Wars: Episode III  Revenge of the Sith\": True,\n",
    "    \"Star Wars: Episode IV  A New Hope\": True,\n",
    "    \"Star Wars: Episode V The Empire Strikes Back\": True,\n",
    "    \"Star Wars: Episode VI Return of the Jedi\": True,\n",
    "    np.NaN: False\n",
    "}\n",
    "\n",
    "movie_columns = list(star_wars.columns[3:9])\n",
    "for mc in movie_columns:\n",
    "    star_wars[mc] = star_wars[mc].map(movies)\n",
    "\n"
   ]
  },
  {
   "cell_type": "markdown",
   "metadata": {},
   "source": [
    "Finally, the rankings will be converted to floats.  A final look at the dataset is also included.  "
   ]
  },
  {
   "cell_type": "code",
   "execution_count": 6,
   "metadata": {},
   "outputs": [
    {
     "data": {
      "text/html": [
       "<div>\n",
       "<style scoped>\n",
       "    .dataframe tbody tr th:only-of-type {\n",
       "        vertical-align: middle;\n",
       "    }\n",
       "\n",
       "    .dataframe tbody tr th {\n",
       "        vertical-align: top;\n",
       "    }\n",
       "\n",
       "    .dataframe thead th {\n",
       "        text-align: right;\n",
       "    }\n",
       "</style>\n",
       "<table border=\"1\" class=\"dataframe\">\n",
       "  <thead>\n",
       "    <tr style=\"text-align: right;\">\n",
       "      <th></th>\n",
       "      <th>RespondentID</th>\n",
       "      <th>Have you seen any of the 6 films in the Star Wars franchise?</th>\n",
       "      <th>Do you consider yourself to be a fan of the Star Wars film franchise?</th>\n",
       "      <th>I have seen Star Wars: Episode I  The Phantom Menace</th>\n",
       "      <th>I have seen Star Wars: Episode II  Attack of the Clones</th>\n",
       "      <th>I have seen Star Wars: Episode III  Revenge of the Sith</th>\n",
       "      <th>I have seen Star Wars: Episode IV  A New Hope</th>\n",
       "      <th>I have seen Star Wars: Episode V The Empire Strikes Back</th>\n",
       "      <th>I have seen Star Wars: Episode VI Return of the Jedi</th>\n",
       "      <th>Rank of Star Wars: Episode I  The Phantom Menace</th>\n",
       "      <th>...</th>\n",
       "      <th>My view of Yoda</th>\n",
       "      <th>Which character shot first?</th>\n",
       "      <th>Are you familiar with the Expanded Universe?</th>\n",
       "      <th>Do you consider yourself to be a fan of the Expanded Universe?ÂÃ¦</th>\n",
       "      <th>Do you consider yourself to be a fan of the Star Trek franchise?</th>\n",
       "      <th>Gender</th>\n",
       "      <th>Age</th>\n",
       "      <th>Household Income</th>\n",
       "      <th>Education</th>\n",
       "      <th>Location (Census Region)</th>\n",
       "    </tr>\n",
       "  </thead>\n",
       "  <tbody>\n",
       "    <tr>\n",
       "      <td>1</td>\n",
       "      <td>3.292880e+09</td>\n",
       "      <td>True</td>\n",
       "      <td>True</td>\n",
       "      <td>True</td>\n",
       "      <td>True</td>\n",
       "      <td>True</td>\n",
       "      <td>True</td>\n",
       "      <td>True</td>\n",
       "      <td>True</td>\n",
       "      <td>3.0</td>\n",
       "      <td>...</td>\n",
       "      <td>Very favorably</td>\n",
       "      <td>I don't understand this question</td>\n",
       "      <td>Yes</td>\n",
       "      <td>No</td>\n",
       "      <td>No</td>\n",
       "      <td>Male</td>\n",
       "      <td>18-29</td>\n",
       "      <td>NaN</td>\n",
       "      <td>High school degree</td>\n",
       "      <td>South Atlantic</td>\n",
       "    </tr>\n",
       "    <tr>\n",
       "      <td>2</td>\n",
       "      <td>3.292880e+09</td>\n",
       "      <td>False</td>\n",
       "      <td>NaN</td>\n",
       "      <td>False</td>\n",
       "      <td>False</td>\n",
       "      <td>False</td>\n",
       "      <td>False</td>\n",
       "      <td>False</td>\n",
       "      <td>False</td>\n",
       "      <td>NaN</td>\n",
       "      <td>...</td>\n",
       "      <td>NaN</td>\n",
       "      <td>NaN</td>\n",
       "      <td>NaN</td>\n",
       "      <td>NaN</td>\n",
       "      <td>Yes</td>\n",
       "      <td>Male</td>\n",
       "      <td>18-29</td>\n",
       "      <td>$0 - $24,999</td>\n",
       "      <td>Bachelor degree</td>\n",
       "      <td>West South Central</td>\n",
       "    </tr>\n",
       "    <tr>\n",
       "      <td>3</td>\n",
       "      <td>3.292765e+09</td>\n",
       "      <td>True</td>\n",
       "      <td>False</td>\n",
       "      <td>True</td>\n",
       "      <td>True</td>\n",
       "      <td>True</td>\n",
       "      <td>False</td>\n",
       "      <td>False</td>\n",
       "      <td>False</td>\n",
       "      <td>1.0</td>\n",
       "      <td>...</td>\n",
       "      <td>Unfamiliar (N/A)</td>\n",
       "      <td>I don't understand this question</td>\n",
       "      <td>No</td>\n",
       "      <td>NaN</td>\n",
       "      <td>No</td>\n",
       "      <td>Male</td>\n",
       "      <td>18-29</td>\n",
       "      <td>$0 - $24,999</td>\n",
       "      <td>High school degree</td>\n",
       "      <td>West North Central</td>\n",
       "    </tr>\n",
       "    <tr>\n",
       "      <td>4</td>\n",
       "      <td>3.292763e+09</td>\n",
       "      <td>True</td>\n",
       "      <td>True</td>\n",
       "      <td>True</td>\n",
       "      <td>True</td>\n",
       "      <td>True</td>\n",
       "      <td>True</td>\n",
       "      <td>True</td>\n",
       "      <td>True</td>\n",
       "      <td>5.0</td>\n",
       "      <td>...</td>\n",
       "      <td>Very favorably</td>\n",
       "      <td>I don't understand this question</td>\n",
       "      <td>No</td>\n",
       "      <td>NaN</td>\n",
       "      <td>Yes</td>\n",
       "      <td>Male</td>\n",
       "      <td>18-29</td>\n",
       "      <td>$100,000 - $149,999</td>\n",
       "      <td>Some college or Associate degree</td>\n",
       "      <td>West North Central</td>\n",
       "    </tr>\n",
       "    <tr>\n",
       "      <td>5</td>\n",
       "      <td>3.292731e+09</td>\n",
       "      <td>True</td>\n",
       "      <td>True</td>\n",
       "      <td>True</td>\n",
       "      <td>True</td>\n",
       "      <td>True</td>\n",
       "      <td>True</td>\n",
       "      <td>True</td>\n",
       "      <td>True</td>\n",
       "      <td>5.0</td>\n",
       "      <td>...</td>\n",
       "      <td>Somewhat favorably</td>\n",
       "      <td>Greedo</td>\n",
       "      <td>Yes</td>\n",
       "      <td>No</td>\n",
       "      <td>No</td>\n",
       "      <td>Male</td>\n",
       "      <td>18-29</td>\n",
       "      <td>$100,000 - $149,999</td>\n",
       "      <td>Some college or Associate degree</td>\n",
       "      <td>West North Central</td>\n",
       "    </tr>\n",
       "  </tbody>\n",
       "</table>\n",
       "<p>5 rows × 38 columns</p>\n",
       "</div>"
      ],
      "text/plain": [
       "   RespondentID  Have you seen any of the 6 films in the Star Wars franchise?  \\\n",
       "1  3.292880e+09                                               True              \n",
       "2  3.292880e+09                                              False              \n",
       "3  3.292765e+09                                               True              \n",
       "4  3.292763e+09                                               True              \n",
       "5  3.292731e+09                                               True              \n",
       "\n",
       "  Do you consider yourself to be a fan of the Star Wars film franchise?  \\\n",
       "1                                               True                      \n",
       "2                                                NaN                      \n",
       "3                                              False                      \n",
       "4                                               True                      \n",
       "5                                               True                      \n",
       "\n",
       "   I have seen Star Wars: Episode I  The Phantom Menace  \\\n",
       "1                                               True      \n",
       "2                                              False      \n",
       "3                                               True      \n",
       "4                                               True      \n",
       "5                                               True      \n",
       "\n",
       "   I have seen Star Wars: Episode II  Attack of the Clones  \\\n",
       "1                                               True         \n",
       "2                                              False         \n",
       "3                                               True         \n",
       "4                                               True         \n",
       "5                                               True         \n",
       "\n",
       "   I have seen Star Wars: Episode III  Revenge of the Sith  \\\n",
       "1                                               True         \n",
       "2                                              False         \n",
       "3                                               True         \n",
       "4                                               True         \n",
       "5                                               True         \n",
       "\n",
       "   I have seen Star Wars: Episode IV  A New Hope  \\\n",
       "1                                           True   \n",
       "2                                          False   \n",
       "3                                          False   \n",
       "4                                           True   \n",
       "5                                           True   \n",
       "\n",
       "   I have seen Star Wars: Episode V The Empire Strikes Back  \\\n",
       "1                                               True          \n",
       "2                                              False          \n",
       "3                                              False          \n",
       "4                                               True          \n",
       "5                                               True          \n",
       "\n",
       "   I have seen Star Wars: Episode VI Return of the Jedi  \\\n",
       "1                                               True      \n",
       "2                                              False      \n",
       "3                                              False      \n",
       "4                                               True      \n",
       "5                                               True      \n",
       "\n",
       "   Rank of Star Wars: Episode I  The Phantom Menace  ...     My view of Yoda  \\\n",
       "1                                               3.0  ...      Very favorably   \n",
       "2                                               NaN  ...                 NaN   \n",
       "3                                               1.0  ...    Unfamiliar (N/A)   \n",
       "4                                               5.0  ...      Very favorably   \n",
       "5                                               5.0  ...  Somewhat favorably   \n",
       "\n",
       "        Which character shot first?  \\\n",
       "1  I don't understand this question   \n",
       "2                               NaN   \n",
       "3  I don't understand this question   \n",
       "4  I don't understand this question   \n",
       "5                            Greedo   \n",
       "\n",
       "   Are you familiar with the Expanded Universe?  \\\n",
       "1                                           Yes   \n",
       "2                                           NaN   \n",
       "3                                            No   \n",
       "4                                            No   \n",
       "5                                           Yes   \n",
       "\n",
       "   Do you consider yourself to be a fan of the Expanded Universe?ÂÃ¦  \\\n",
       "1                                                 No                    \n",
       "2                                                NaN                    \n",
       "3                                                NaN                    \n",
       "4                                                NaN                    \n",
       "5                                                 No                    \n",
       "\n",
       "   Do you consider yourself to be a fan of the Star Trek franchise? Gender  \\\n",
       "1                                                 No                  Male   \n",
       "2                                                Yes                  Male   \n",
       "3                                                 No                  Male   \n",
       "4                                                Yes                  Male   \n",
       "5                                                 No                  Male   \n",
       "\n",
       "     Age     Household Income                         Education  \\\n",
       "1  18-29                  NaN                High school degree   \n",
       "2  18-29         $0 - $24,999                   Bachelor degree   \n",
       "3  18-29         $0 - $24,999                High school degree   \n",
       "4  18-29  $100,000 - $149,999  Some college or Associate degree   \n",
       "5  18-29  $100,000 - $149,999  Some college or Associate degree   \n",
       "\n",
       "  Location (Census Region)  \n",
       "1           South Atlantic  \n",
       "2       West South Central  \n",
       "3       West North Central  \n",
       "4       West North Central  \n",
       "5       West North Central  \n",
       "\n",
       "[5 rows x 38 columns]"
      ]
     },
     "execution_count": 6,
     "metadata": {},
     "output_type": "execute_result"
    }
   ],
   "source": [
    "# Convert ranking numbers in each row to floats\n",
    "star_wars[star_wars.columns[9:15]] = star_wars[star_wars.columns[9:15]].astype(float)\n",
    "\n",
    "star_wars.head()"
   ]
  },
  {
   "cell_type": "markdown",
   "metadata": {},
   "source": [
    "![Classic Stormtrooper scene](https://media.giphy.com/media/26gZ07rC3kjDMjqlW/giphy.gif)\n",
    "\n",
    "## Analysis\n",
    "\n",
    "\n",
    "\n",
    "### Overview of ranking and viewings\n",
    "\n",
    "First, a simple examination of which films participants ranked highest.  Most people consider Episode 5: The Empire Strikes Back to be the pinnacle of the series.  (Note: lower numbers are better, as the numbers are ordinal)\n",
    "\n"
   ]
  },
  {
   "cell_type": "code",
   "execution_count": 7,
   "metadata": {},
   "outputs": [
    {
     "data": {
      "text/plain": [
       "[Text(0, 0.5, 'Average Rank'), Text(0.5, 0, 'Film')]"
      ]
     },
     "execution_count": 7,
     "metadata": {},
     "output_type": "execute_result"
    },
    {
     "data": {
      "image/png": "[encoded data removed]",
      "text/plain": [
       "<Figure size 432x288 with 1 Axes>"
      ]
     },
     "metadata": {
      "needs_background": "light"
     },
     "output_type": "display_data"
    }
   ],
   "source": [
    "# Calculating the averages of each ranking and plot them in a bar chart\n",
    "average_rankings = star_wars[star_wars.columns[9:15]].mean()\n",
    "\n",
    "average_rankings.index = film_names\n",
    "fig, ax = plt.subplots()\n",
    "fig.suptitle('Average Rankings of Each Star Wars Film')\n",
    "df = average_rankings.sort_values()\n",
    "df.plot(kind='bar', ax=ax)\n",
    "ax.set(ylabel=\"Average Rank\", xlabel=\"Film\")"
   ]
  },
  {
   "cell_type": "markdown",
   "metadata": {},
   "source": [
    "The results support the idea that Empire Strikes Back is the most revered film of the series.  While the specific order of these rankings is up for debate, the clustering of films in the top and bottom halves of the list is easy to explain:  The original trilogy is superior to the prequel trilogy.  \n",
    "\n",
    "Something to note is that the survey asks participants whether or not they have seen each of the six films. It would be interesting to see which films have been viewed more often."
   ]
  },
  {
   "cell_type": "code",
   "execution_count": 8,
   "metadata": {},
   "outputs": [
    {
     "data": {
      "text/plain": [
       "[Text(0, 0.5, 'Number of Viewings'), Text(0.5, 0, 'Film')]"
      ]
     },
     "execution_count": 8,
     "metadata": {},
     "output_type": "execute_result"
    },
    {
     "data": {
      "image/png": "[encoded data removed]",
      "text/plain": [
       "<Figure size 432x288 with 1 Axes>"
      ]
     },
     "metadata": {
      "needs_background": "light"
     },
     "output_type": "display_data"
    }
   ],
   "source": [
    "# Calculating the total number of views for each movie and plot them in a bar chart\n",
    "total_viewings = star_wars[star_wars.columns[3:9]].sum()\n",
    "\n",
    "total_viewings.index = film_names\n",
    "fig, ax = plt.subplots()\n",
    "fig.suptitle('Total Viewings for Each Star Wars Film')\n",
    "df = total_viewings.sort_values(ascending=False)\n",
    "df.plot(kind='bar', ax=ax)\n",
    "ax.set(ylabel=\"Number of Viewings\", xlabel=\"Film\")\n"
   ]
  },
  {
   "cell_type": "markdown",
   "metadata": {},
   "source": [
    "The order of movie views from most to least is nearly identical to the movie rankings from best to worst.  However, for an accurate assessment of rankings, it doesn't make much sense to use viewings as a metric.  This will be addressed later on in this analysis, but for the next breakdown, fandom will be taken into consideration."
   ]
  },
  {
   "cell_type": "markdown",
   "metadata": {},
   "source": [
    "![Star Wars Star Trek](http://www.tshirtvortex.net/wp-content/uploads/moviewatchers-480x360.jpg)\n",
    "\n",
    "### Fandom\n",
    "\n",
    "For this next part, we will only look at participants who consider themselves fans of strictly either Star Wars or Star Trek."
   ]
  },
  {
   "cell_type": "code",
   "execution_count": 9,
   "metadata": {},
   "outputs": [
    {
     "name": "stdout",
     "output_type": "stream",
     "text": [
      " Number of Star Wars fans: 175\n",
      " Number of Star Trek fans: 45\n",
      " Number of respondents: 1186\n"
     ]
    }
   ],
   "source": [
    "# Creating dataframe for respondents that are exclusively fans of Star Wars or Star Trek\n",
    "strict_sw_fans = star_wars[(star_wars[\"Do you consider yourself to be a fan of the Star Wars film franchise?\"] == True) & (star_wars[\"Do you consider yourself to be a fan of the Star Trek franchise?\"] == \"No\")]\n",
    "strict_st_fans = star_wars[(star_wars[\"Do you consider yourself to be a fan of the Star Wars film franchise?\"] == False) & (star_wars[\"Do you consider yourself to be a fan of the Star Trek franchise?\"] == \"Yes\")]\n",
    "print(\" Number of Star Wars fans: \" + str(len(strict_sw_fans)) + \n",
    "      \"\\n Number of Star Trek fans: \" +  str(len(strict_st_fans)) + \n",
    "      \"\\n Number of respondents: \" + str(len (star_wars)))"
   ]
  },
  {
   "cell_type": "markdown",
   "metadata": {},
   "source": [
    "First, the summary for Star Wars fans."
   ]
  },
  {
   "cell_type": "code",
   "execution_count": 10,
   "metadata": {},
   "outputs": [
    {
     "data": {
      "image/png": "[encoded data removed]",
      "text/plain": [
       "<Figure size 432x288 with 2 Axes>"
      ]
     },
     "metadata": {
      "needs_background": "light"
     },
     "output_type": "display_data"
    }
   ],
   "source": [
    "# Calculating the averages of each film ranking for exclusive fans of Star Wars\n",
    "sw_average_rankings = strict_sw_fans[strict_sw_fans.columns[9:15]].mean()\n",
    "sw_average_rankings.index = film_names\n",
    "\n",
    "# Calculating the total number of views for each movie for exclusive Star Wars fans\n",
    "sw_total_viewings = strict_sw_fans[strict_sw_fans.columns[3:9]].sum()\n",
    "sw_total_viewings.index = film_names\n",
    "\n",
    "# Creating subplots for the two plots\n",
    "fig, (ax1, ax2) = plt.subplots(1,2)\n",
    "fig.suptitle('Average Rankings and Number of Views - Participants That Are Only Fans of Star Wars', ha='left')\n",
    "\n",
    "df = sw_average_rankings.sort_values()\n",
    "df.plot(kind='bar', ax=ax1)\n",
    "ax1.set(ylabel=\"Average Rank\", xlabel=\"Film\")\n",
    "df2 = sw_total_viewings.sort_values(ascending=False)\n",
    "df2.plot(kind='bar', ax=ax2)\n",
    "ax2.set(ylabel=\"Number of Viewings\", xlabel=\"Film\")\n",
    "\n",
    "fig.subplots_adjust(right=2,wspace=.5)"
   ]
  },
  {
   "cell_type": "markdown",
   "metadata": {},
   "source": [
    "The bar charts for ranking and number of viewings among respondents that are exclusively fans of Star Wars are almost exactly the same in order of best to worst and most to least, respectively.  The only difference is that A New Hope is ranked higher than Return of the Jedi.  Two things to note are \n",
    "\n",
    "1. The difference in rankings between the original trilogy and prequel trilogy is greater than that of the general population, which makes sense as Star Wars fans are more critical of the flaws found in the prequels.\n",
    "\n",
    "2. The difference between the number of viewings of each movie is less than that of the general population.  This also makes sense because Star Wars fans are more likely to have seen all of the movies, rather than a subset.  \n",
    "\n",
    "\n",
    "Next, Star Trek fans."
   ]
  },
  {
   "cell_type": "code",
   "execution_count": 11,
   "metadata": {},
   "outputs": [
    {
     "data": {
      "image/png": "[encoded data removed]",
      "text/plain": [
       "<Figure size 432x288 with 2 Axes>"
      ]
     },
     "metadata": {
      "needs_background": "light"
     },
     "output_type": "display_data"
    }
   ],
   "source": [
    "# Calculating the averages of each film ranking for exclusive fans of Star Trek\n",
    "st_average_rankings = strict_st_fans[strict_st_fans.columns[9:15]].mean()\n",
    "st_average_rankings.index = film_names\n",
    "\n",
    "# Calculating the total number of views for each movie for exclusive Star Trek fans\n",
    "st_total_viewings = strict_st_fans[strict_st_fans.columns[3:9]].sum()\n",
    "st_total_viewings.index = film_names\n",
    "\n",
    "# Creating subplots for the two plots\n",
    "fig, (ax1, ax2) = plt.subplots(1,2)\n",
    "fig.suptitle('Average Rankings and Number of Views - Participants That Are Only Fans of Star Trek', ha='left')\n",
    "\n",
    "df = st_average_rankings.sort_values()\n",
    "df.plot(kind='bar', ax=ax1)\n",
    "ax1.set(ylabel=\"Average Rank\", xlabel=\"Film\")\n",
    "df2 = st_total_viewings.sort_values(ascending=False)\n",
    "df2.plot(kind='bar', ax=ax2)\n",
    "ax2.set(ylabel=\"Number of Viewings\", xlabel=\"Film\")\n",
    "\n",
    "fig.subplots_adjust(right=2,wspace=.5)"
   ]
  },
  {
   "cell_type": "markdown",
   "metadata": {},
   "source": [
    "Among exclusively Star Trek fans, Empire still sits atop the rankings and viewings, but the most striking result is how well The Phantom Menace is regarded, and how conversely A New Hope is less appreciated.  I have no solid theories as to why this is, but I feel that it comes from contempt or indifference for the series."
   ]
  },
  {
   "cell_type": "markdown",
   "metadata": {},
   "source": [
    "### Complete viewing\n",
    "\n",
    "As stated in , it would be more meaningful to analyze the rankings of each movie by respondents who have seen all 6 films.  As a statistical exercise, below are the results of a chi square test between the expected values (i.e. everyone has seen all six films) and the observed values.\n"
   ]
  },
  {
   "cell_type": "code",
   "execution_count": 12,
   "metadata": {},
   "outputs": [
    {
     "data": {
      "text/html": [
       "<div>\n",
       "<style scoped>\n",
       "    .dataframe tbody tr th:only-of-type {\n",
       "        vertical-align: middle;\n",
       "    }\n",
       "\n",
       "    .dataframe tbody tr th {\n",
       "        vertical-align: top;\n",
       "    }\n",
       "\n",
       "    .dataframe thead th {\n",
       "        text-align: right;\n",
       "    }\n",
       "</style>\n",
       "<table border=\"1\" class=\"dataframe\">\n",
       "  <thead>\n",
       "    <tr style=\"text-align: right;\">\n",
       "      <th></th>\n",
       "      <th>I have seen Star Wars: Episode I  The Phantom Menace</th>\n",
       "      <th>I have seen Star Wars: Episode II  Attack of the Clones</th>\n",
       "      <th>I have seen Star Wars: Episode III  Revenge of the Sith</th>\n",
       "      <th>I have seen Star Wars: Episode IV  A New Hope</th>\n",
       "      <th>I have seen Star Wars: Episode V The Empire Strikes Back</th>\n",
       "      <th>I have seen Star Wars: Episode VI Return of the Jedi</th>\n",
       "    </tr>\n",
       "  </thead>\n",
       "  <tbody>\n",
       "    <tr>\n",
       "      <td>Chi Square</td>\n",
       "      <td>2.641250e+01</td>\n",
       "      <td>1.278365e+02</td>\n",
       "      <td>1.581606e+02</td>\n",
       "      <td>8.335384e+01</td>\n",
       "      <td>0.0</td>\n",
       "      <td>1.462284</td>\n",
       "    </tr>\n",
       "    <tr>\n",
       "      <td>P-Value</td>\n",
       "      <td>2.757497e-07</td>\n",
       "      <td>1.218800e-29</td>\n",
       "      <td>2.854584e-36</td>\n",
       "      <td>6.860543e-20</td>\n",
       "      <td>1.0</td>\n",
       "      <td>0.226567</td>\n",
       "    </tr>\n",
       "  </tbody>\n",
       "</table>\n",
       "</div>"
      ],
      "text/plain": [
       "            I have seen Star Wars: Episode I  The Phantom Menace  \\\n",
       "Chi Square                                       2.641250e+01      \n",
       "P-Value                                          2.757497e-07      \n",
       "\n",
       "            I have seen Star Wars: Episode II  Attack of the Clones  \\\n",
       "Chi Square                                       1.278365e+02         \n",
       "P-Value                                          1.218800e-29         \n",
       "\n",
       "            I have seen Star Wars: Episode III  Revenge of the Sith  \\\n",
       "Chi Square                                       1.581606e+02         \n",
       "P-Value                                          2.854584e-36         \n",
       "\n",
       "            I have seen Star Wars: Episode IV  A New Hope  \\\n",
       "Chi Square                                   8.335384e+01   \n",
       "P-Value                                      6.860543e-20   \n",
       "\n",
       "            I have seen Star Wars: Episode V The Empire Strikes Back  \\\n",
       "Chi Square                                                0.0          \n",
       "P-Value                                                   1.0          \n",
       "\n",
       "            I have seen Star Wars: Episode VI Return of the Jedi  \n",
       "Chi Square                                           1.462284     \n",
       "P-Value                                              0.226567     "
      ]
     },
     "execution_count": 12,
     "metadata": {},
     "output_type": "execute_result"
    }
   ],
   "source": [
    "has_seen = []\n",
    "has_not = []\n",
    "\n",
    "for r in range(3,9):\n",
    "    has_not.append(star_wars.iloc[:,r].value_counts()[0])\n",
    "    has_seen.append(star_wars.iloc[:,r].value_counts()[1])\n",
    "\n",
    "obs = [has_seen,has_not]\n",
    "# Using most viewed movie of the six, i.e. Episode V, as the expected\n",
    "exp = [[758,758,758,758,758,758],[428,428,428,428,428,428]] \n",
    "\n",
    "from scipy.stats import chisquare\n",
    "chi = pd.DataFrame(chisquare(obs, f_exp = exp), columns=star_wars.columns[3:9], index=['Chi Square','P-Value'])\n",
    "chi "
   ]
  },
  {
   "cell_type": "markdown",
   "metadata": {},
   "source": [
    "While the results show there is a significant difference in viewings for most movies, it's just a formality.  It could merely be argued that in order to thoroughly rank the Star Wars saga, all of the films must have been viewed.  A new dataset will be created that only has participants that meet this criterion.  "
   ]
  },
  {
   "cell_type": "code",
   "execution_count": 13,
   "metadata": {},
   "outputs": [
    {
     "name": "stdout",
     "output_type": "stream",
     "text": [
      "471\n"
     ]
    }
   ],
   "source": [
    "# Removing all respondents who have not seen all six movies\n",
    "\n",
    "saw1 = star_wars.iloc[:,3] == True\n",
    "saw2 = star_wars.iloc[:,4] == True\n",
    "saw3 = star_wars.iloc[:,5] == True\n",
    "saw4 = star_wars.iloc[:,6] == True\n",
    "saw5 = star_wars.iloc[:,7] == True\n",
    "saw6 = star_wars.iloc[:,8] == True\n",
    "\n",
    "all_viewed = star_wars[saw1 & saw2 & saw3 & saw4 & saw5 & saw6]\n",
    "print(len(all_viewed))"
   ]
  },
  {
   "cell_type": "code",
   "execution_count": 14,
   "metadata": {},
   "outputs": [
    {
     "data": {
      "text/plain": [
       "[Text(0, 0.5, 'Average Ranking'), Text(0.5, 0, 'Film')]"
      ]
     },
     "execution_count": 14,
     "metadata": {},
     "output_type": "execute_result"
    },
    {
     "data": {
      "image/png": "[encoded data removed]",
      "text/plain": [
       "<Figure size 432x288 with 1 Axes>"
      ]
     },
     "metadata": {
      "needs_background": "light"
     },
     "output_type": "display_data"
    }
   ],
   "source": [
    "# Calculating the averages of each ranking for respondents who saw all six \n",
    "# Star Wars films and plot them in a bar chart\n",
    "all_average_rankings = all_viewed[all_viewed.columns[9:15]].mean()\n",
    "\n",
    "all_average_rankings.index = film_names\n",
    "fig, ax = plt.subplots()\n",
    "fig.suptitle('Average Rankings of Each Star Wars Film Among Participants That Saw All 6 Films')\n",
    "df = all_average_rankings.sort_values()\n",
    "df.plot(kind='bar', ax=ax)\n",
    "ax.set(ylabel=\"Average Ranking\", xlabel=\"Film\")"
   ]
  },
  {
   "cell_type": "markdown",
   "metadata": {},
   "source": [
    "The chart is similar to the one for respondents who are exclusively fans of Star Wars, except that Revenge of the Sith is ranked higher than Attack of the Clones."
   ]
  },
  {
   "cell_type": "markdown",
   "metadata": {},
   "source": [
    "### Characters\n",
    "\n",
    "Here is an overview of how some of the franchise's characters were viewed."
   ]
  },
  {
   "cell_type": "code",
   "execution_count": 15,
   "metadata": {},
   "outputs": [],
   "source": [
    "# Converting the ratings for each row in the \"Opinion of\" columns from \n",
    "# text to a integer value (e.g. Very Favorably = 5)\n",
    "\n",
    "opinions = {\n",
    "    \"Very favorably\": 5,\n",
    "    \"Somewhat favorably\": 4,\n",
    "    \"Neither favorably nor unfavorably (neutral)\": 3,\n",
    "    \"Somewhat unfavorably\": 2,\n",
    "    \"Very unfavorably\": 1,\n",
    "    \"Unfamiliar (N/A)\": None#\n",
    "}\n",
    "\n",
    "opinion_columns = list(star_wars.columns[15:29])\n",
    "for oc in opinion_columns:\n",
    "    star_wars[oc] = star_wars[oc].map(opinions)"
   ]
  },
  {
   "cell_type": "code",
   "execution_count": 16,
   "metadata": {},
   "outputs": [
    {
     "data": {
      "text/plain": [
       "[Text(0, 0.5, 'Average Rating'), Text(0.5, 0, 'Film')]"
      ]
     },
     "execution_count": 16,
     "metadata": {},
     "output_type": "execute_result"
    },
    {
     "data": {
      "image/png": "[encoded data removed]",
      "text/plain": [
       "<Figure size 432x288 with 1 Axes>"
      ]
     },
     "metadata": {
      "needs_background": "light"
     },
     "output_type": "display_data"
    }
   ],
   "source": [
    "# Calculating the averages of each character rating and plot them \n",
    "# on a bar chart\n",
    "average_rating = star_wars[star_wars.columns[15:29]].mean()\n",
    "\n",
    "average_rating.index = characters\n",
    "fig, ax = plt.subplots()\n",
    "fig.suptitle('Average Rating of Each Star Wars Character')\n",
    "df = average_rating.sort_values(ascending=False)\n",
    "df.plot(kind='bar', ax=ax)\n",
    "ax.set(ylabel=\"Average Rating\", xlabel=\"Film\")"
   ]
  },
  {
   "cell_type": "markdown",
   "metadata": {},
   "source": [
    "Most of the ratings fall in line with generally regarded opinions for each character.  It is a bit odd that Darth Vader is rated so poorly, as he is one of the franchise's most iconic figures, but it may have to do with the fact that he is a villain."
   ]
  },
  {
   "cell_type": "markdown",
   "metadata": {},
   "source": [
    "Future considerations for analysis:\n",
    "\n",
    "- Segmenting the data based on columns like Education, Location (Census Region), and Which character shot first?, and creating the same summary visualizations\n",
    "- Determine which character is the most controversial (split between likes and dislikes)?"
   ]
  },
  {
   "cell_type": "code",
   "execution_count": null,
   "metadata": {},
   "outputs": [],
   "source": []
  }
 ],
 "metadata": {
  "kernelspec": {
   "display_name": "Python 3",
   "language": "python",
   "name": "python3"
  },
  "language_info": {
   "codemirror_mode": {
    "name": "ipython",
    "version": 3
   },
   "file_extension": ".py",
   "mimetype": "text/x-python",
   "name": "python",
   "nbconvert_exporter": "python",
   "pygments_lexer": "ipython3",
   "version": "3.7.1"
  }
 },
 "nbformat": 4,
 "nbformat_minor": 1
}
