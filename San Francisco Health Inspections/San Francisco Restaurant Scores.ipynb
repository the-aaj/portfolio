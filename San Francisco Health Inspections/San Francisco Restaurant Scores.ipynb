{
 "cells": [
  {
   "cell_type": "markdown",
   "metadata": {},
   "source": [
    "# Health Inspection Scores for San Francisco Restaurants\n",
    "\n",
    "Exploring the contents from a SQLite database containing health inspection scores for restaurants around San Francisco.  They take place between October 2013 to October 2015.\n",
    "\n",
    "Source: [San Francisco Restaurant Health Inspections](http://2016.padjo.org/tutorials/sqlite-data-starterpacks/#toc-san-francisco-restaurant-health-inspections)"
   ]
  },
  {
   "cell_type": "markdown",
   "metadata": {},
   "source": [
    "## Setting up"
   ]
  },
  {
   "cell_type": "code",
   "execution_count": 1,
   "metadata": {},
   "outputs": [
    {
     "data": {
      "text/html": [
       "<div>\n",
       "<style scoped>\n",
       "    .dataframe tbody tr th:only-of-type {\n",
       "        vertical-align: middle;\n",
       "    }\n",
       "\n",
       "    .dataframe tbody tr th {\n",
       "        vertical-align: top;\n",
       "    }\n",
       "\n",
       "    .dataframe thead th {\n",
       "        text-align: right;\n",
       "    }\n",
       "</style>\n",
       "<table border=\"1\" class=\"dataframe\">\n",
       "  <thead>\n",
       "    <tr style=\"text-align: right;\">\n",
       "      <th></th>\n",
       "      <th>name</th>\n",
       "      <th>type</th>\n",
       "    </tr>\n",
       "  </thead>\n",
       "  <tbody>\n",
       "    <tr>\n",
       "      <td>0</td>\n",
       "      <td>businesses</td>\n",
       "      <td>table</td>\n",
       "    </tr>\n",
       "    <tr>\n",
       "      <td>1</td>\n",
       "      <td>inspections</td>\n",
       "      <td>table</td>\n",
       "    </tr>\n",
       "    <tr>\n",
       "      <td>2</td>\n",
       "      <td>violations</td>\n",
       "      <td>table</td>\n",
       "    </tr>\n",
       "  </tbody>\n",
       "</table>\n",
       "</div>"
      ],
      "text/plain": [
       "          name   type\n",
       "0   businesses  table\n",
       "1  inspections  table\n",
       "2   violations  table"
      ]
     },
     "execution_count": 1,
     "metadata": {},
     "output_type": "execute_result"
    }
   ],
   "source": [
    "import sqlite3\n",
    "import pandas as pd\n",
    "import matplotlib.pyplot as plt\n",
    "%matplotlib inline \n",
    "\n",
    "# Creating a function that takes a SQL query as an argument\n",
    "# and returns a pandas dataframe of that query. \n",
    "\n",
    "def run_query(q):\n",
    "    with sqlite3.connect('sfscores.sqlite') as conn:\n",
    "        return pd.read_sql(q, conn)\n",
    "    \n",
    "# Creating a function that takes a SQL command as an argument \n",
    "# and executes it using the sqlite module\n",
    "\n",
    "def run_command(c):\n",
    "    with sqlite3.connect('sfscores.sqlite') as conn:\n",
    "        conn.isolation_level = None\n",
    "        conn.execute(c)\n",
    "\n",
    "# Creating a function that calls the run_query() function to return a \n",
    "# list of all tables and views in the database\n",
    "\n",
    "def show_tables():\n",
    "    st = \"SELECT name, type FROM sqlite_master WHERE type IN (\\\"table\\\",\\\"view\\\");\"\n",
    "    return run_query(st)\n",
    "    \n",
    "show_tables()\n"
   ]
  },
  {
   "cell_type": "code",
   "execution_count": null,
   "metadata": {},
   "outputs": [],
   "source": [
    "# Checking the content of businesses table\n",
    "\n",
    "b_query = \"SELECT * FROM businesses LIMIT 5\"\n",
    "\n",
    "run_query(b_query)"
   ]
  },
  {
   "cell_type": "code",
   "execution_count": null,
   "metadata": {},
   "outputs": [],
   "source": [
    "# Checking the content of inspections table\n",
    "\n",
    "i_query = \"SELECT * FROM inspections LIMIT 5\"\n",
    "\n",
    "run_query(i_query)"
   ]
  },
  {
   "cell_type": "code",
   "execution_count": null,
   "metadata": {},
   "outputs": [],
   "source": [
    "# Checking the content of violations table\n",
    "\n",
    "v_query = \"SELECT * FROM violations LIMIT 5\"\n",
    "\n",
    "run_query(v_query)"
   ]
  },
  {
   "cell_type": "markdown",
   "metadata": {},
   "source": [
    "## Exploratory queries\n",
    "\n",
    "Acquiring insights from the inspection reports"
   ]
  },
  {
   "cell_type": "code",
   "execution_count": null,
   "metadata": {},
   "outputs": [],
   "source": [
    "# Returning the top 20 restaurants with the most violations\n",
    "\n",
    "top20_violations_query = \"\"\"\n",
    "\n",
    "SELECT b.name, b.address, COUNT(1) num_violations\n",
    "FROM businesses b\n",
    "INNER JOIN violations v ON b.business_id = v.business_id\n",
    "GROUP BY b.business_id\n",
    "ORDER BY num_violations DESC\n",
    "LIMIT 20\n",
    "\"\"\"\n",
    "\n",
    "run_query(top20_violations_query)"
   ]
  },
  {
   "cell_type": "code",
   "execution_count": null,
   "metadata": {},
   "outputs": [],
   "source": [
    "# Returning the top 20 locations with the most violations per inspection\n",
    "\n",
    "top20_avg_violations_query = \"\"\"\n",
    "\n",
    "WITH total_violations as (\n",
    "    SELECT b.business_id, COUNT(1) num_violations\n",
    "    FROM businesses b\n",
    "    INNER JOIN violations v ON b.business_id = v.business_id\n",
    "    GROUP BY b.business_id\n",
    "), total_inspections as (\n",
    "    SELECT b.business_id, COUNT(1) num_inspections\n",
    "    FROM businesses b\n",
    "    INNER JOIN inspections i ON b.business_id = i.business_id\n",
    "    GROUP BY b.business_id\n",
    ")\n",
    "\n",
    "SELECT b.business_id, b.name, b.address, ROUND((CAST(tv.num_violations as Float)/CAST(ti.num_inspections\n",
    "                     as float)), 2) avg_violations\n",
    "FROM businesses b\n",
    "INNER JOIN total_violations tv ON b.business_id = tv.business_id\n",
    "INNER JOIN total_inspections ti ON b.business_id = ti.business_id\n",
    "GROUP BY b.business_id\n",
    "ORDER BY avg_violations DESC\n",
    "LIMIT 20\n",
    "\"\"\"\n",
    "\n",
    "run_query(top20_avg_violations_query)"
   ]
  },
  {
   "cell_type": "code",
   "execution_count": 49,
   "metadata": {},
   "outputs": [],
   "source": [
    "# Returning the number of violations per Month-Year combination\n",
    "\n",
    "new_violations = \"\"\"\n",
    "\n",
    "CREATE TABLE IF NOT EXISTS violations_dates (\n",
    "business_id TEXT, year_month TEXT, date TEXT, ViolationTypeID TEXT, risk_category TEXT, description TEXT\n",
    ");\n",
    "\n",
    "\"\"\"\n",
    "\n",
    "insert_violations = \"\"\"\n",
    "\n",
    "INSERT INTO violations_dates\n",
    "SELECT business_id, SUBSTR(date,1,6)|| '01', date, ViolationTypeID, risk_category, description\n",
    "FROM violations;\n",
    "\n",
    "\"\"\"\n",
    "\n",
    "run_command(new_violations)\n",
    "run_command(insert_violations)\n",
    "run_command(\"DROP TABLE IF EXISTS violations;\")\n",
    "run_command(\"ALTER TABLE violations_dates RENAME TO violations;\") "
   ]
  },
  {
   "cell_type": "code",
   "execution_count": 50,
   "metadata": {},
   "outputs": [
    {
     "data": {
      "text/plain": [
       "<matplotlib.axes._subplots.AxesSubplot at 0x1d288eb9f28>"
      ]
     },
     "execution_count": 50,
     "metadata": {},
     "output_type": "execute_result"
    },
    {
     "data": {
      "image/png": "[encoded data removed]",
      "text/plain": [
       "<Figure size 432x288 with 1 Axes>"
      ]
     },
     "metadata": {
      "needs_background": "light"
     },
     "output_type": "display_data"
    }
   ],
   "source": [
    "test_query = \"SELECT * FROM inspection_dates LIMIT 15\"\n",
    "\n",
    "test_query2 = \"PRAGMA table_info(violations);\"\n",
    "\n",
    "test_query3 = \"\"\"\n",
    "\n",
    "SELECT year_month, COUNT(1) num_of_violations\n",
    "FROM violations\n",
    "GROUP BY year_month\n",
    "ORDER BY year_month\n",
    "\n",
    "\"\"\"\n",
    "\n",
    "violations_month = run_query(test_query3)\n",
    "violations_month['year_month'] = pd.to_datetime(violations_month['year_month'], yearfirst=True)\n",
    "violations_month.plot.line(x='year_month',y='num_of_violations')"
   ]
  },
  {
   "cell_type": "code",
   "execution_count": 33,
   "metadata": {},
   "outputs": [],
   "source": [
    "# Dropping new tables to reset the sqlite database\n",
    "\n",
    "run_command(\"DROP TABLE IF EXISTS chains;\") \n",
    "run_command(\"DROP TABLE IF EXISTS violations_dates;\") \n"
   ]
  },
  {
   "cell_type": "code",
   "execution_count": 19,
   "metadata": {},
   "outputs": [
    {
     "data": {
      "text/html": [
       "<div>\n",
       "<style scoped>\n",
       "    .dataframe tbody tr th:only-of-type {\n",
       "        vertical-align: middle;\n",
       "    }\n",
       "\n",
       "    .dataframe tbody tr th {\n",
       "        vertical-align: top;\n",
       "    }\n",
       "\n",
       "    .dataframe thead th {\n",
       "        text-align: right;\n",
       "    }\n",
       "</style>\n",
       "<table border=\"1\" class=\"dataframe\">\n",
       "  <thead>\n",
       "    <tr style=\"text-align: right;\">\n",
       "      <th></th>\n",
       "      <th>name</th>\n",
       "      <th>num_locations</th>\n",
       "    </tr>\n",
       "  </thead>\n",
       "  <tbody>\n",
       "    <tr>\n",
       "      <td>0</td>\n",
       "      <td>Peet's Coffee &amp; Tea</td>\n",
       "      <td>20</td>\n",
       "    </tr>\n",
       "    <tr>\n",
       "      <td>1</td>\n",
       "      <td>Starbucks Coffee</td>\n",
       "      <td>15</td>\n",
       "    </tr>\n",
       "    <tr>\n",
       "      <td>2</td>\n",
       "      <td>McDonald's</td>\n",
       "      <td>9</td>\n",
       "    </tr>\n",
       "    <tr>\n",
       "      <td>3</td>\n",
       "      <td>STARBUCKS</td>\n",
       "      <td>9</td>\n",
       "    </tr>\n",
       "    <tr>\n",
       "      <td>4</td>\n",
       "      <td>San Francisco Soup Company</td>\n",
       "      <td>9</td>\n",
       "    </tr>\n",
       "    <tr>\n",
       "      <td>5</td>\n",
       "      <td>Specialty's Cafe &amp; Bakery</td>\n",
       "      <td>9</td>\n",
       "    </tr>\n",
       "    <tr>\n",
       "      <td>6</td>\n",
       "      <td>AT&amp;T PARK - Food Cart</td>\n",
       "      <td>8</td>\n",
       "    </tr>\n",
       "    <tr>\n",
       "      <td>7</td>\n",
       "      <td>Jamba Juice</td>\n",
       "      <td>8</td>\n",
       "    </tr>\n",
       "    <tr>\n",
       "      <td>8</td>\n",
       "      <td>Subway Sandwiches</td>\n",
       "      <td>8</td>\n",
       "    </tr>\n",
       "    <tr>\n",
       "      <td>9</td>\n",
       "      <td>Bon Appetit @ Twitter</td>\n",
       "      <td>7</td>\n",
       "    </tr>\n",
       "  </tbody>\n",
       "</table>\n",
       "</div>"
      ],
      "text/plain": [
       "                         name  num_locations\n",
       "0         Peet's Coffee & Tea             20\n",
       "1            Starbucks Coffee             15\n",
       "2                  McDonald's              9\n",
       "3                   STARBUCKS              9\n",
       "4  San Francisco Soup Company              9\n",
       "5   Specialty's Cafe & Bakery              9\n",
       "6       AT&T PARK - Food Cart              8\n",
       "7                 Jamba Juice              8\n",
       "8           Subway Sandwiches              8\n",
       "9       Bon Appetit @ Twitter              7"
      ]
     },
     "execution_count": 19,
     "metadata": {},
     "output_type": "execute_result"
    }
   ],
   "source": [
    "# Creating a table to the businesses table indicating whether or not a business is a chain.\n",
    "# In this case, a chain is defined as a business with 3 or more locations.\n",
    "\n",
    "create_chain = \"\"\"\n",
    "\n",
    "CREATE TABLE IF NOT EXISTS chains (\n",
    "name TEXT, num_locations INTEGER,\n",
    "PRIMARY KEY (name)\n",
    ");\n",
    "\n",
    "\"\"\"\n",
    "\n",
    "insert_chain = \"\"\"\n",
    "\n",
    "INSERT INTO chains (name, num_locations)\n",
    "\n",
    "SELECT b.name, COUNT(1) num_loc\n",
    "FROM businesses b\n",
    "GROUP BY b.name\n",
    "HAVING num_loc > 2\n",
    "\n",
    "\"\"\"\n",
    "\n",
    "run_command(create_chain)\n",
    "run_command(insert_chain)\n",
    "\n",
    "run_query(\"SELECT * FROM chains ORDER BY num_locations DESC LIMIT 10\")"
   ]
  },
  {
   "cell_type": "code",
   "execution_count": null,
   "metadata": {},
   "outputs": [],
   "source": []
  }
 ],
 "metadata": {
  "kernelspec": {
   "display_name": "Python 3",
   "language": "python",
   "name": "python3"
  },
  "language_info": {
   "codemirror_mode": {
    "name": "ipython",
    "version": 3
   },
   "file_extension": ".py",
   "mimetype": "text/x-python",
   "name": "python",
   "nbconvert_exporter": "python",
   "pygments_lexer": "ipython3",
   "version": "3.7.1"
  }
 },
 "nbformat": 4,
 "nbformat_minor": 2
}
